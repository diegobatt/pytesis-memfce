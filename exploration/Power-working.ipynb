{
 "cells": [
  {
   "cell_type": "code",
   "execution_count": 1,
   "id": "4c663c28-c37c-4fb4-97c0-ae141a549f41",
   "metadata": {},
   "outputs": [],
   "source": [
    "\n",
    "from pytesis.intervals import *\n",
    "from pytesis.power import *\n",
    "from pytesis.datasets import arc, eyeglasses, filled_circle, add_noise, add_outliers\n",
    "from pytesis.datasets import plot_dataset\n",
    "from pytesis.fermat import fermat_dist\n",
    "from sklearn.metrics import pairwise_distances\n",
    "from functools import partial\n",
    "import numpy as np\n",
    "import pandas as pd\n",
    "\n",
    "from functools import partial\n",
    "\n"
   ]
  },
  {
   "cell_type": "code",
   "execution_count": null,
   "id": "0bcf687a-e73b-409c-9c29-3ff35aad770d",
   "metadata": {},
   "outputs": [],
   "source": []
  },
  {
   "cell_type": "code",
   "execution_count": 2,
   "id": "93f2f3ff-6702-402c-9832-0ed3740eb953",
   "metadata": {},
   "outputs": [
    {
     "name": "stderr",
     "output_type": "stream",
     "text": [
      "INFO:power:Iteration: 0\n",
      "INFO:power:Iteration: 1\n",
      "INFO:power:Iteration: 2\n",
      "INFO:power:Iteration: 3\n",
      "INFO:power:Iteration: 4\n",
      "INFO:power:Iteration: 5\n",
      "INFO:power:Iteration: 6\n",
      "INFO:power:Iteration: 7\n",
      "INFO:power:Iteration: 8\n",
      "INFO:power:Iteration: 9\n"
     ]
    }
   ],
   "source": [
    "B = 10\n",
    "dataset_factory = partial(eyeglasses, n=1000, bridge_height=0.5, r=1, separation=3)\n",
    "result = distance_power(\n",
    "    dataset_factory,\n",
    "    band=0.1,\n",
    "    dist_function=None,\n",
    "    B=B,\n",
    "    ncores=1\n",
    ")"
   ]
  },
  {
   "cell_type": "code",
   "execution_count": 4,
   "id": "22d77c16-8cc9-427d-a095-a2a5b118fbc3",
   "metadata": {},
   "outputs": [
    {
     "data": {
      "text/html": [
       "<div>\n",
       "<style scoped>\n",
       "    .dataframe tbody tr th:only-of-type {\n",
       "        vertical-align: middle;\n",
       "    }\n",
       "\n",
       "    .dataframe tbody tr th {\n",
       "        vertical-align: top;\n",
       "    }\n",
       "\n",
       "    .dataframe thead th {\n",
       "        text-align: right;\n",
       "    }\n",
       "</style>\n",
       "<table border=\"1\" class=\"dataframe\">\n",
       "  <thead>\n",
       "    <tr style=\"text-align: right;\">\n",
       "      <th></th>\n",
       "      <th>holes</th>\n",
       "      <th>counts</th>\n",
       "      <th>percentage</th>\n",
       "    </tr>\n",
       "  </thead>\n",
       "  <tbody>\n",
       "    <tr>\n",
       "      <th>0</th>\n",
       "      <td>2</td>\n",
       "      <td>10</td>\n",
       "      <td>1.0</td>\n",
       "    </tr>\n",
       "  </tbody>\n",
       "</table>\n",
       "</div>"
      ],
      "text/plain": [
       "   holes  counts  percentage\n",
       "0      2      10         1.0"
      ]
     },
     "execution_count": 4,
     "metadata": {},
     "output_type": "execute_result"
    }
   ],
   "source": [
    "result.table"
   ]
  },
  {
   "cell_type": "code",
   "execution_count": null,
   "id": "4f8f2bb9-32b9-434c-bbf6-446ba0b643c7",
   "metadata": {},
   "outputs": [],
   "source": []
  }
 ],
 "metadata": {
  "kernelspec": {
   "display_name": "Python 3 (ipykernel)",
   "language": "python",
   "name": "python3"
  },
  "language_info": {
   "codemirror_mode": {
    "name": "ipython",
    "version": 3
   },
   "file_extension": ".py",
   "mimetype": "text/x-python",
   "name": "python",
   "nbconvert_exporter": "python",
   "pygments_lexer": "ipython3",
   "version": "3.10.11"
  }
 },
 "nbformat": 4,
 "nbformat_minor": 5
}
